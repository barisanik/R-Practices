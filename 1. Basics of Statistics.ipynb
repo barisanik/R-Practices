{
 "cells": [
  {
   "cell_type": "code",
   "execution_count": 1,
   "id": "8e224218",
   "metadata": {},
   "outputs": [],
   "source": [
    "set.seed(0)\n",
    "N <- 100000 # Number of observations"
   ]
  },
  {
   "cell_type": "markdown",
   "id": "f1fffe37",
   "metadata": {},
   "source": [
    "# Let's create a population"
   ]
  },
  {
   "cell_type": "code",
   "execution_count": 2,
   "id": "327bf117",
   "metadata": {},
   "outputs": [],
   "source": [
    "# Creates a population in a range between -1 and 1\n",
    "P <- runif(N, min = -1, max = 1)"
   ]
  },
  {
   "cell_type": "code",
   "execution_count": 3,
   "id": "94e6f455",
   "metadata": {},
   "outputs": [
    {
     "data": {
      "text/html": [
       "<style>\n",
       ".list-inline {list-style: none; margin:0; padding: 0}\n",
       ".list-inline>li {display: inline-block}\n",
       ".list-inline>li:not(:last-child)::after {content: \"\\00b7\"; padding: 0 .5ex}\n",
       "</style>\n",
       "<ol class=list-inline><li>0.793394400272518</li><li>-0.4689826737158</li><li>-0.25575220072642</li><li>0.145706726703793</li></ol>\n"
      ],
      "text/latex": [
       "\\begin{enumerate*}\n",
       "\\item 0.793394400272518\n",
       "\\item -0.4689826737158\n",
       "\\item -0.25575220072642\n",
       "\\item 0.145706726703793\n",
       "\\end{enumerate*}\n"
      ],
      "text/markdown": [
       "1. 0.793394400272518\n",
       "2. -0.4689826737158\n",
       "3. -0.25575220072642\n",
       "4. 0.145706726703793\n",
       "\n",
       "\n"
      ],
      "text/plain": [
       "[1]  0.7933944 -0.4689827 -0.2557522  0.1457067"
      ]
     },
     "metadata": {},
     "output_type": "display_data"
    }
   ],
   "source": [
    "# Let's see the first four elements of 'P'\n",
    "P[1:4]"
   ]
  },
  {
   "cell_type": "code",
   "execution_count": 4,
   "id": "f0a9d7c8",
   "metadata": {},
   "outputs": [
    {
     "data": {
      "text/plain": [
       "      Min.    1st Qu.     Median       Mean    3rd Qu.       Max. \n",
       "-0.9999922 -0.5036080  0.0005262 -0.0003335  0.5014050  0.9999880 "
      ]
     },
     "metadata": {},
     "output_type": "display_data"
    }
   ],
   "source": [
    "# Getting the summary of 'P'\n",
    "summary(P)"
   ]
  },
  {
   "cell_type": "markdown",
   "id": "84d4d245",
   "metadata": {},
   "source": [
    "# Creating Samples From Population"
   ]
  },
  {
   "cell_type": "code",
   "execution_count": 11,
   "id": "6811c9b3",
   "metadata": {},
   "outputs": [],
   "source": [
    "# First sample -- sample(Population, SampleSize)\n",
    "sample1 <- sample(P, 10)"
   ]
  },
  {
   "cell_type": "code",
   "execution_count": 12,
   "id": "d1191456",
   "metadata": {},
   "outputs": [
    {
     "data": {
      "text/plain": [
       "    Min.  1st Qu.   Median     Mean  3rd Qu.     Max. \n",
       "-0.83492 -0.74806  0.06805  0.03476  0.79604  0.98287 "
      ]
     },
     "metadata": {},
     "output_type": "display_data"
    }
   ],
   "source": [
    "# Summary of first sample\n",
    "summary(sample1)"
   ]
  },
  {
   "cell_type": "code",
   "execution_count": 13,
   "id": "8d617c65",
   "metadata": {},
   "outputs": [],
   "source": [
    "# Let's take another sample from population\n",
    "sample2 <- sample(P,10)"
   ]
  },
  {
   "cell_type": "code",
   "execution_count": 14,
   "id": "4f403046",
   "metadata": {},
   "outputs": [
    {
     "data": {
      "text/plain": [
       "    Min.  1st Qu.   Median     Mean  3rd Qu.     Max. \n",
       "-0.83492 -0.74806  0.06805  0.03476  0.79604  0.98287 "
      ]
     },
     "metadata": {},
     "output_type": "display_data"
    }
   ],
   "source": [
    "# Summary of second sample\n",
    "summary(sample2)"
   ]
  },
  {
   "cell_type": "markdown",
   "id": "4baef2b5",
   "metadata": {},
   "source": [
    "# Getting Multiple Samples From Population"
   ]
  },
  {
   "cell_type": "code",
   "execution_count": 15,
   "id": "e2bfeb91",
   "metadata": {},
   "outputs": [],
   "source": [
    "sampSize <- 10\n",
    "sampNum <- 100 # number of samples taken\n",
    "multiSamples <- vector(\"double\", sampNum)\n",
    "\n",
    "for (i in 1:sampNum) { multiSamples[i] <- mean(sample(P, sampSize))}"
   ]
  },
  {
   "cell_type": "code",
   "execution_count": 16,
   "id": "c3e5d2db",
   "metadata": {},
   "outputs": [
    {
     "data": {
      "text/plain": [
       "     Min.   1st Qu.    Median      Mean   3rd Qu.      Max. \n",
       "-0.528161 -0.108692  0.002851 -0.001327  0.113584  0.471627 "
      ]
     },
     "metadata": {},
     "output_type": "display_data"
    }
   ],
   "source": [
    "# Summary of Multiple Sample list\n",
    "summary(multiSamples)"
   ]
  },
  {
   "cell_type": "code",
   "execution_count": 17,
   "id": "486b259b",
   "metadata": {},
   "outputs": [
    {
     "data": {
      "image/png": "[encoded data removed]",
      "text/plain": [
       "plot without title"
      ]
     },
     "metadata": {
      "image/png": {
       "height": 420,
       "width": 420
      }
     },
     "output_type": "display_data"
    }
   ],
   "source": [
    "boxplot(multiSamples)"
   ]
  },
  {
   "cell_type": "code",
   "execution_count": 52,
   "id": "ccfc0d56",
   "metadata": {},
   "outputs": [
    {
     "data": {
      "image/png": "[encoded data removed]",
      "text/plain": [
       "Plot with title \"Frequency of Value of 'multiSamples' Vector\""
      ]
     },
     "metadata": {
      "image/png": {
       "height": 420,
       "width": 420
      }
     },
     "output_type": "display_data"
    }
   ],
   "source": [
    "# Creating a histogram for multiple samples to see the distribution.\n",
    "hist(multiSamples, \n",
    "     main=\"Frequency of Value of 'multiSamples' Vector\", # Summary of Graph\n",
    "     breaks = 50, # Column Count\n",
    "     xlab = \"Value\", # Summary of X Axis\n",
    "     col = rgb(0.3,0.6,0.3), # Color of bars\n",
    "     border = rgb(0,0,0), # Color of border of bars\n",
    "     \n",
    "    )"
   ]
  },
  {
   "cell_type": "markdown",
   "id": "dacf92e6",
   "metadata": {},
   "source": [
    "# Let's Create Another Samples"
   ]
  },
  {
   "cell_type": "code",
   "execution_count": 66,
   "id": "45b3a40a",
   "metadata": {},
   "outputs": [
    {
     "data": {
      "text/plain": [
       "      Min.    1st Qu.     Median       Mean    3rd Qu.       Max. \n",
       "-0.9999977 -0.5004075 -0.0005365 -0.0005643  0.4997727  0.9999997 "
      ]
     },
     "metadata": {},
     "output_type": "display_data"
    }
   ],
   "source": [
    "N <- 1000000 # Number of observations\n",
    "P <- runif(N, min = -1, max = 1)\n",
    "sampSize <- 500\n",
    "sample2 <- sample(P,sampSize)\n",
    "sample3 <- sample(P,sampSize)\n",
    "sample4 <- sample(P,sampSize)\n",
    "sample5 <- sample(P,sampSize)\n",
    "summary(P)"
   ]
  },
  {
   "cell_type": "code",
   "execution_count": 67,
   "id": "a9f29dd4",
   "metadata": {},
   "outputs": [
    {
     "data": {
      "text/plain": [
       "    Min.  1st Qu.   Median     Mean  3rd Qu.     Max. \n",
       "-0.99732 -0.46832  0.01125  0.01377  0.53417  0.99322 "
      ]
     },
     "metadata": {},
     "output_type": "display_data"
    }
   ],
   "source": [
    "summary(sample2)"
   ]
  },
  {
   "cell_type": "code",
   "execution_count": 68,
   "id": "44f47645",
   "metadata": {
    "scrolled": false
   },
   "outputs": [
    {
     "data": {
      "text/plain": [
       "     Min.   1st Qu.    Median      Mean   3rd Qu.      Max. \n",
       "-0.996441 -0.445443  0.007788  0.020658  0.494578  0.999979 "
      ]
     },
     "metadata": {},
     "output_type": "display_data"
    }
   ],
   "source": [
    "summary(sample3)"
   ]
  },
  {
   "cell_type": "code",
   "execution_count": 69,
   "id": "2f2e6e46",
   "metadata": {},
   "outputs": [
    {
     "data": {
      "text/plain": [
       "     Min.   1st Qu.    Median      Mean   3rd Qu.      Max. \n",
       "-0.999647 -0.466633 -0.007928 -0.005244  0.483782  0.997432 "
      ]
     },
     "metadata": {},
     "output_type": "display_data"
    }
   ],
   "source": [
    "summary(sample4)"
   ]
  },
  {
   "cell_type": "code",
   "execution_count": 70,
   "id": "1965fa6a",
   "metadata": {},
   "outputs": [
    {
     "data": {
      "text/plain": [
       "    Min.  1st Qu.   Median     Mean  3rd Qu.     Max. \n",
       "-0.99201 -0.47006  0.03457  0.02263  0.47989  0.99355 "
      ]
     },
     "metadata": {},
     "output_type": "display_data"
    }
   ],
   "source": [
    "summary(sample5)"
   ]
  },
  {
   "cell_type": "code",
   "execution_count": 98,
   "id": "394be91e",
   "metadata": {},
   "outputs": [
    {
     "data": {
      "image/png": "[encoded data removed]",
      "text/plain": [
       "Plot with title \"Histogram of sample5\""
      ]
     },
     "metadata": {
      "image/png": {
       "height": 420,
       "width": 420
      }
     },
     "output_type": "display_data"
    }
   ],
   "source": [
    "# Comparing histograms of samples.\n",
    "par(mfrow=c(2,2)) # create 2x2 Plot\n",
    "\n",
    "# Top left\n",
    "hist(sample2, \n",
    "     col = rgb(0.3,0.6,0.3))\n",
    "grid(col='gray')\n",
    "\n",
    "# top right\n",
    "hist(sample3,\n",
    "    col = rgb(0.3,0.3,0.6))\n",
    "grid(col='gray')\n",
    "\n",
    "# top right\n",
    "hist(sample4,\n",
    "    col = 'red')\n",
    "grid(col='gray')\n",
    "\n",
    "# top right\n",
    "hist(sample5,\n",
    "    col = 'orange')\n",
    "grid(col='gray')"
   ]
  },
  {
   "cell_type": "code",
   "execution_count": 105,
   "id": "d9179a05",
   "metadata": {
    "scrolled": false
   },
   "outputs": [
    {
     "data": {
      "image/png": "[encoded data removed]",
      "text/plain": [
       "plot without title"
      ]
     },
     "metadata": {
      "image/png": {
       "height": 420,
       "width": 420
      }
     },
     "output_type": "display_data"
    }
   ],
   "source": [
    "# Comparing the means and quartiles of samples.\n",
    "boxplot(sample2, sample3, sample4, sample5,\n",
    "       col = c(rgb(0.3,0.6,0.3), rgb(0.3,0.3,0.6), 'red', 'orange'),\n",
    "       xlab = 'Samples')"
   ]
  },
  {
   "cell_type": "code",
   "execution_count": 126,
   "id": "fbe12262",
   "metadata": {},
   "outputs": [
    {
     "data": {
      "image/png": "[encoded data removed]",
      "text/plain": [
       "Plot with title \"QQ-Plot\""
      ]
     },
     "metadata": {
      "image/png": {
       "height": 420,
       "width": 420
      }
     },
     "output_type": "display_data"
    }
   ],
   "source": [
    "# Creating Q-Q Plot with q2 and q3 witg length of 50\n",
    "p <- seq(0, 1, length = 50)\n",
    "quantile2 <- round(quantile(sample2, probs=p), 2)\n",
    "quantile3 <- round(quantile(sample3, probs=p), 2)\n",
    "\n",
    "plot(quantile2, quantile3, \n",
    "     xlim=c(-1,1), ylim=c(-1,1),\n",
    "     main='QQ-Plot', \n",
    "     pch=16, col='blue')\n",
    "lines(c(-1,1), c(-1, 1), type='l', \n",
    "     col='red', lwd=3)"
   ]
  },
  {
   "cell_type": "code",
   "execution_count": 127,
   "id": "16d25f04",
   "metadata": {},
   "outputs": [
    {
     "data": {
      "image/png": "[encoded data removed]",
      "text/plain": [
       "Plot with title \"QQ-Plot\""
      ]
     },
     "metadata": {
      "image/png": {
       "height": 420,
       "width": 420
      }
     },
     "output_type": "display_data"
    }
   ],
   "source": [
    "# Creating Q-Q Plot with q4 and q5 witg length of sample4\n",
    "p <- seq(0, 1, length = length(sample4))\n",
    "quantile4 <- round(quantile(sample4, probs=p), 2)\n",
    "quantile5 <- round(quantile(sample5, probs=p), 2)\n",
    "\n",
    "plot(quantile4, quantile5, \n",
    "     xlim=c(-1,1), ylim=c(-1,1),\n",
    "     main='QQ-Plot', \n",
    "     pch=16, col='blue')\n",
    "lines(c(-1,1), c(-1, 1), type='l', \n",
    "     col='red', lwd=3)"
   ]
  },
  {
   "cell_type": "code",
   "execution_count": 149,
   "id": "6eec1dc5",
   "metadata": {},
   "outputs": [
    {
     "data": {
      "image/png": "[encoded data removed]",
      "text/plain": [
       "Plot with title \"QQ-Plot\""
      ]
     },
     "metadata": {
      "image/png": {
       "height": 420,
       "width": 420
      }
     },
     "output_type": "display_data"
    }
   ],
   "source": [
    "# Comparing the histograms and Q-Q Plots for sample 2 and sample 3\n",
    "low <- -1 # Lowest limit\n",
    "top <- 1 # Highest limit\n",
    "par(mfrow=c(2,2)) # create 2x2 Plot\n",
    "\n",
    "\n",
    "hist(sample2, \n",
    "     col= rgb(0.3,0.6,0.3),\n",
    "     border = rgb(0,0,1),\n",
    "     breaks = 50\n",
    "     )\n",
    "plot(quantile(sample2, \n",
    "              seq(0, 1, length=length(sample2))), \n",
    "     sort(sample2),  \n",
    "     xlim = c(low,top),\n",
    "     ylim = c(low,top),\n",
    "     main = 'QQ-Plot', \n",
    "     pch=16,\n",
    "     col='darkgreen')\n",
    "lines(c(low, top), c(low, top), type='l', \n",
    "     col='red', lwd=3)\n",
    "\n",
    "hist(sample3, \n",
    "     col= rgb(0.3,0.3,0.6),\n",
    "     border = rgb(0,0,1),\n",
    "     breaks = 50\n",
    "     )\n",
    "plot(quantile(sample3, \n",
    "              seq(0, 1, length=length(sample3))), \n",
    "     sort(sample3),  \n",
    "     xlim = c(low,top),\n",
    "     ylim = c(low,top),\n",
    "     main = 'QQ-Plot', \n",
    "     pch=16,\n",
    "     col='darkgreen')\n",
    "lines(c(low, top), c(low, top), type='l', \n",
    "     col='red', lwd=3)"
   ]
  }
 ],
 "metadata": {
  "kernelspec": {
   "display_name": "R",
   "language": "R",
   "name": "ir"
  },
  "language_info": {
   "codemirror_mode": "r",
   "file_extension": ".r",
   "mimetype": "text/x-r-source",
   "name": "R",
   "pygments_lexer": "r",
   "version": "4.2.1"
  }
 },
 "nbformat": 4,
 "nbformat_minor": 5
}
